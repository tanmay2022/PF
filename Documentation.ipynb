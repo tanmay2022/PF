{
 "cells": [
    {
     "cell_type": "markdown",
     "metadata": {},
     "source": [
      "# Phase-field Solver with Dynamic Interface Refinement\n",
      "\n",
      "it may be helpful for the user to become familiar with [OpenFOAM documentation](https://www.openfoam.com/documentation/overview), which means users can.\n",
      "\n",
      "it may be helpful for the user to become familiar with [OpenFOAM documentation](https://www.openfoam.com/documentation/overview), which means users can"
     ]
    },
  {
   "cell_type": "code",
   "metadata": {},
   "outputs": [],
   "source": [
    "cd $FOAM_RUN/\n"
   ]
  }
 ],
 "metadata": {
  "colab": {
   "provenance": []
  },
  "kernelspec": {
   "display_name": "Python 3 (ipykernel)",
   "language": "python",
   "name": "python3"
  },
  "language_info": {
   "codemirror_mode": {
    "name": "ipython",
    "version": 3
   },
   "file_extension": ".py",
   "mimetype": "text/x-python",
   "name": "python",
   "nbconvert_exporter": "python",
   "pygments_lexer": "ipython3",
   "version": "3.9.12"
  }
 },
 "nbformat": 4,
 "nbformat_minor": 1
}
